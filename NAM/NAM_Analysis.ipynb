{
 "cells": [
  {
   "cell_type": "code",
   "execution_count": 6,
   "metadata": {},
   "outputs": [],
   "source": [
    "import os\n",
    "import matplotlib.pyplot as plt\n",
    "import numpy as np"
   ]
  },
  {
   "cell_type": "code",
   "execution_count": 7,
   "metadata": {},
   "outputs": [],
   "source": [
    "T = 500; #K\n",
    "kb = 1.38065  #A^2.g/particle/K/s^2\n",
    "bt = 1/T/kb\n",
    "epsilon = 4e-8 #friction g/s\n",
    "D = 2/bt/epsilon"
   ]
  },
  {
   "cell_type": "code",
   "execution_count": 8,
   "metadata": {},
   "outputs": [],
   "source": [
    "def read_files(j, k):\n",
    "    data_list = []\n",
    "    traj_handle = open('rate_output.traj', 'r')\n",
    "    traj_content = traj_handle.readlines()\n",
    "    traj_handle.close()\n",
    "    for i in traj_content:\n",
    "        temp_content = i.split()\n",
    "        try:\n",
    "            data_list.append((float(temp_content[0]), float(temp_content[1])))\n",
    "        except:\n",
    "            continue\n",
    "            \n",
    "    docked = 0\n",
    "    locked = 0\n",
    "    incomplete = 0\n",
    "    for i in data_list: #(q, r)\n",
    "        if i[1] < 2:\n",
    "            if i[0] > 0:\n",
    "                docked += 1\n",
    "            else:\n",
    "                locked += 1\n",
    "        else:\n",
    "            incomplete += 1\n",
    "    \n",
    "    beta = (docked+locked)/len(data_list)\n",
    "    rate = 4*np.pi*D*j*beta/(1-(1-beta)*j/k)\n",
    "    rate *= 6.022e-4 \n",
    "    betainf = beta/(1-(1-beta)*j/k)\n",
    "    print(\"Init d:%d\\t Term dist:%d\\t Total num runs:%d\\t %%Successful:%d\\t Rate:%E\\t %%Locked:%f\" % (j, k, len(data_list), beta*100, rate, locked/(docked+locked)*100))\n",
    "    return rate"
   ]
  },
  {
   "cell_type": "code",
   "execution_count": 9,
   "metadata": {},
   "outputs": [
    {
     "name": "stdout",
     "output_type": "stream",
     "text": [
      "Init d:12\t Term dist:20\t Total num runs:10000\t %Successful:22\t Rate:1.296184E+09\t %Locked:5.409091\n",
      "Init d:13\t Term dist:22\t Total num runs:10000\t %Successful:16\t Rate:1.108136E+09\t %Locked:0.000000\n",
      "Init d:14\t Term dist:24\t Total num runs:20000\t %Successful:17\t Rate:1.231640E+09\t %Locked:3.206413\n",
      "Init d:15\t Term dist:26\t Total num runs:20000\t %Successful:15\t Rate:1.204768E+09\t %Locked:4.110022\n",
      "Init d:16\t Term dist:28\t Total num runs:20000\t %Successful:7\t Rate:6.693039E+08\t %Locked:0.000000\n"
     ]
    }
   ],
   "source": [
    "j = np.array([12, 13, 14, 15, 16])\n",
    "k = np.array([20, 22, 24, 26, 28])\n",
    "os.chdir('./short_chain')\n",
    "for i in range(len(j)):\n",
    "    direc = \"./%d_%d\" % (j[i], k[i])\n",
    "    os.chdir(direc)\n",
    "    read_files(j[i], k[i])\n",
    "    os.chdir(\"..\")"
   ]
  }
 ],
 "metadata": {
  "kernelspec": {
   "display_name": "Python 3.9.7 ('default_env')",
   "language": "python",
   "name": "python3"
  },
  "language_info": {
   "codemirror_mode": {
    "name": "ipython",
    "version": 3
   },
   "file_extension": ".py",
   "mimetype": "text/x-python",
   "name": "python",
   "nbconvert_exporter": "python",
   "pygments_lexer": "ipython3",
   "version": "3.9.7"
  },
  "vscode": {
   "interpreter": {
    "hash": "7b414396d0d0f01ca358f53066d73421de53e3e6b7f64b26474ba4795139e937"
   }
  }
 },
 "nbformat": 4,
 "nbformat_minor": 4
}
